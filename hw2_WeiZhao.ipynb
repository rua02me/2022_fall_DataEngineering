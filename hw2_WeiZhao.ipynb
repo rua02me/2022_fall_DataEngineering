{
  "cells": [
    {
      "cell_type": "markdown",
      "metadata": {
        "id": "jP13gFCpb1cz"
      },
      "source": [
        "# Import Libraries"
      ]
    },
    {
      "cell_type": "code",
      "execution_count": 3,
      "metadata": {
        "id": "l9FYRFnHT3ta"
      },
      "outputs": [],
      "source": [
        "import requests\n",
        "import pandas as pd\n",
        "import time\n",
        "\n",
        "from datetime import date, datetime, timedelta\n"
      ]
    },
    {
      "cell_type": "code",
      "execution_count": 4,
      "metadata": {
        "colab": {
          "base_uri": "https://localhost:8080/"
        },
        "id": "yP4msuqbAG97",
        "outputId": "cc431dc2-51b6-4ed6-875a-f5a43ec0af03"
      },
      "outputs": [
        {
          "name": "stdout",
          "output_type": "stream",
          "text": [
            "Looking in indexes: https://pypi.org/simple, https://us-python.pkg.dev/colab-wheels/public/simple/\n",
            "Collecting Pulldata==1.1.1\n",
            "  Downloading Pulldata-1.1.1-py3-none-any.whl (1.8 kB)\n",
            "Installing collected packages: Pulldata\n",
            "Successfully installed Pulldata-1.1.1\n"
          ]
        }
      ],
      "source": [
        "%pip install Pulldata==1.1.1"
      ]
    },
    {
      "cell_type": "code",
      "execution_count": 5,
      "metadata": {
        "id": "phyiftwsAPtR"
      },
      "outputs": [],
      "source": [
        "import Pulldata\n",
        "from Pulldata import myfunctions"
      ]
    },
    {
      "cell_type": "markdown",
      "metadata": {
        "id": "nRcmx3kmcQmg"
      },
      "source": [
        "I make a \"Pulldata\" library to include the function of pulling data from Polygon. Inside the \"Pulldata\", it provides two function: pull_1m_data and pull_6m_data, which respectively pull data every 1 min or 6 min. "
      ]
    },
    {
      "cell_type": "markdown",
      "metadata": {
        "id": "0S5rcdNZmabQ"
      },
      "source": [
        "# Process Raw Data"
      ]
    },
    {
      "cell_type": "code",
      "execution_count": 77,
      "metadata": {
        "id": "xXpZRpxb9Tq4"
      },
      "outputs": [],
      "source": [
        "# This function processes the raw data pulled from the Polygon\n",
        "\n",
        "def ten_hr_table_6m(symbol):\n",
        "  day = date(year = 2022, month = 11, day =17)\n",
        "  bars = []\n",
        "  days_of_data = 1\n",
        "\n",
        "  for i in range(days_of_data):\n",
        "      bars += myfunctions.pull_6m_data(symbol, day)\n",
        "      day -= timedelta(days = 1)\n",
        "      time.sleep(15)\n",
        "\n",
        "  symbol = pd.DataFrame(bars)\n",
        "  symbol[\"date\"] = pd.to_datetime(symbol[\"t\"], unit = \"ms\")\n",
        "  symbol =  symbol[[\"date\",\"h\",\"l\",\"vw\"]]\n",
        "  symbol.columns = [\"time\",\"high\",\"low\",\"avg\"]\n",
        "  symbol[\"vol\"] = symbol[\"high\"] - symbol[\"low\"]\n",
        "  symbol = symbol.sort_values(\"time\")\n",
        "\n",
        "  count = 0\n",
        "  symbol.insert(5,\"N\",\"\")\n",
        "  symbol[\"N\"][0] = '0'\n",
        "  while count < 99:\n",
        "    symbol[\"N\"][count+1] = int(abs((symbol[\"avg\"][count+1]-symbol[\"avg\"][count]) // (0.025*symbol[\"vol\"][count+1])))\n",
        "    count +=1\n",
        "\n",
        "  symbol[\"N\"] = symbol[\"N\"].astype(float)\n",
        "  symbol[\"FD\"] = symbol[\"N\"]/symbol['vol']\n",
        "\n",
        "  return symbol"
      ]
    },
    {
      "cell_type": "markdown",
      "metadata": {
        "id": "ylpxpdPMwIpx"
      },
      "source": [
        "# Saving the different currency pairs' data table"
      ]
    },
    {
      "cell_type": "code",
      "execution_count": 126,
      "metadata": {
        "id": "-O-8bY2ofrFq"
      },
      "outputs": [],
      "source": [
        "currency_pairs = [\"USDAUD\", \"EURGBP\",\"CADUSD\",\"JPYUSD\",\"MXNUSD\",\"USDEUR\",\"CNYUSD\",\"CZKUSD\",\"PLNUSD\",\"INRUSD\"]\n"
      ]
    },
    {
      "cell_type": "code",
      "execution_count": 117,
      "metadata": {
        "id": "WGcpUaOcodNH"
      },
      "outputs": [],
      "source": [
        "from sqlalchemy import create_engine\n",
        "engine = create_engine('sqlite+pysqlite:///hm2.db', echo=False)"
      ]
    },
    {
      "cell_type": "code",
      "execution_count": 127,
      "metadata": {
        "id": "G_TvGgGdnknL"
      },
      "outputs": [],
      "source": [
        "for cur in currency_pairs:\n",
        "  cur_name = cur\n",
        "  cur = ten_hr_table_6m(cur)\n",
        "  cur.to_sql(cur_name, con=engine)"
      ]
    },
    {
      "cell_type": "code",
      "execution_count": 131,
      "metadata": {
        "id": "N0jUXbY5vPjW"
      },
      "outputs": [],
      "source": [
        "for cur in currency_pairs:\n",
        "  cur_name = cur\n",
        "  cur = ten_hr_table_6m(cur)\n",
        "  cur.to_csv(cur_name+'.csv')"
      ]
    }
  ],
  "metadata": {
    "colab": {
      "provenance": []
    },
    "kernelspec": {
      "display_name": "Python 3.10.6 ('tf')",
      "language": "python",
      "name": "python3"
    },
    "language_info": {
      "name": "python",
      "version": "3.10.6"
    },
    "vscode": {
      "interpreter": {
        "hash": "eae11c95a93f544b7bd8335682ebaa347532569c12c1a06070b84fd7e46bdd54"
      }
    }
  },
  "nbformat": 4,
  "nbformat_minor": 0
}
